{
 "cells": [
  {
   "cell_type": "code",
   "execution_count": 1,
   "id": "14e3bde0",
   "metadata": {},
   "outputs": [],
   "source": [
    "import numpy as np\n",
    "import pandas as pd\n",
    "import scipy.stats as ss\n",
    "import matplotlib.pyplot as plt\n",
    "import matplotlib.gridspec as gridspec\n",
    "%matplotlib inline\n",
    "\n",
    "plt.style.use('seaborn-whitegrid')\n",
    "\n",
    "from IPython.display import HTML\n",
    "from IPython.display import display, Image\n",
    "\n",
    "\n",
    "\n",
    "import statsmodels.stats.weightstats as smw\n",
    "import statsmodels.stats.proportion as smp\n"
   ]
  },
  {
   "cell_type": "markdown",
   "id": "e2b987c0",
   "metadata": {},
   "source": [
    "# Questions 1"
   ]
  },
  {
   "cell_type": "code",
   "execution_count": null,
   "id": "26b80203",
   "metadata": {},
   "outputs": [],
   "source": []
  },
  {
   "cell_type": "code",
   "execution_count": 65,
   "id": "91944e17",
   "metadata": {},
   "outputs": [],
   "source": [
    "# read student-mat\n",
    "df = pd.read_csv(\"student-mat.csv\")"
   ]
  },
  {
   "cell_type": "code",
   "execution_count": 66,
   "id": "d2941bba",
   "metadata": {},
   "outputs": [
    {
     "data": {
      "text/html": [
       "<div>\n",
       "<style scoped>\n",
       "    .dataframe tbody tr th:only-of-type {\n",
       "        vertical-align: middle;\n",
       "    }\n",
       "\n",
       "    .dataframe tbody tr th {\n",
       "        vertical-align: top;\n",
       "    }\n",
       "\n",
       "    .dataframe thead th {\n",
       "        text-align: right;\n",
       "    }\n",
       "</style>\n",
       "<table border=\"1\" class=\"dataframe\">\n",
       "  <thead>\n",
       "    <tr style=\"text-align: right;\">\n",
       "      <th></th>\n",
       "      <th>school</th>\n",
       "      <th>sex</th>\n",
       "      <th>age</th>\n",
       "      <th>address</th>\n",
       "      <th>famsize</th>\n",
       "      <th>Pstatus</th>\n",
       "      <th>Medu</th>\n",
       "      <th>Fedu</th>\n",
       "      <th>Mjob</th>\n",
       "      <th>Fjob</th>\n",
       "      <th>...</th>\n",
       "      <th>famrel</th>\n",
       "      <th>freetime</th>\n",
       "      <th>goout</th>\n",
       "      <th>Dalc</th>\n",
       "      <th>Walc</th>\n",
       "      <th>health</th>\n",
       "      <th>absences</th>\n",
       "      <th>G1</th>\n",
       "      <th>G2</th>\n",
       "      <th>G3</th>\n",
       "    </tr>\n",
       "  </thead>\n",
       "  <tbody>\n",
       "    <tr>\n",
       "      <th>0</th>\n",
       "      <td>GP</td>\n",
       "      <td>F</td>\n",
       "      <td>18</td>\n",
       "      <td>U</td>\n",
       "      <td>GT3</td>\n",
       "      <td>A</td>\n",
       "      <td>4</td>\n",
       "      <td>4</td>\n",
       "      <td>at_home</td>\n",
       "      <td>teacher</td>\n",
       "      <td>...</td>\n",
       "      <td>4</td>\n",
       "      <td>3</td>\n",
       "      <td>4</td>\n",
       "      <td>1</td>\n",
       "      <td>1</td>\n",
       "      <td>3</td>\n",
       "      <td>6</td>\n",
       "      <td>5</td>\n",
       "      <td>6</td>\n",
       "      <td>6</td>\n",
       "    </tr>\n",
       "    <tr>\n",
       "      <th>1</th>\n",
       "      <td>GP</td>\n",
       "      <td>F</td>\n",
       "      <td>17</td>\n",
       "      <td>U</td>\n",
       "      <td>GT3</td>\n",
       "      <td>T</td>\n",
       "      <td>1</td>\n",
       "      <td>1</td>\n",
       "      <td>at_home</td>\n",
       "      <td>other</td>\n",
       "      <td>...</td>\n",
       "      <td>5</td>\n",
       "      <td>3</td>\n",
       "      <td>3</td>\n",
       "      <td>1</td>\n",
       "      <td>1</td>\n",
       "      <td>3</td>\n",
       "      <td>4</td>\n",
       "      <td>5</td>\n",
       "      <td>5</td>\n",
       "      <td>6</td>\n",
       "    </tr>\n",
       "    <tr>\n",
       "      <th>2</th>\n",
       "      <td>GP</td>\n",
       "      <td>F</td>\n",
       "      <td>15</td>\n",
       "      <td>U</td>\n",
       "      <td>LE3</td>\n",
       "      <td>T</td>\n",
       "      <td>1</td>\n",
       "      <td>1</td>\n",
       "      <td>at_home</td>\n",
       "      <td>other</td>\n",
       "      <td>...</td>\n",
       "      <td>4</td>\n",
       "      <td>3</td>\n",
       "      <td>2</td>\n",
       "      <td>2</td>\n",
       "      <td>3</td>\n",
       "      <td>3</td>\n",
       "      <td>10</td>\n",
       "      <td>7</td>\n",
       "      <td>8</td>\n",
       "      <td>10</td>\n",
       "    </tr>\n",
       "    <tr>\n",
       "      <th>3</th>\n",
       "      <td>GP</td>\n",
       "      <td>F</td>\n",
       "      <td>15</td>\n",
       "      <td>U</td>\n",
       "      <td>GT3</td>\n",
       "      <td>T</td>\n",
       "      <td>4</td>\n",
       "      <td>2</td>\n",
       "      <td>health</td>\n",
       "      <td>services</td>\n",
       "      <td>...</td>\n",
       "      <td>3</td>\n",
       "      <td>2</td>\n",
       "      <td>2</td>\n",
       "      <td>1</td>\n",
       "      <td>1</td>\n",
       "      <td>5</td>\n",
       "      <td>2</td>\n",
       "      <td>15</td>\n",
       "      <td>14</td>\n",
       "      <td>15</td>\n",
       "    </tr>\n",
       "    <tr>\n",
       "      <th>4</th>\n",
       "      <td>GP</td>\n",
       "      <td>F</td>\n",
       "      <td>16</td>\n",
       "      <td>U</td>\n",
       "      <td>GT3</td>\n",
       "      <td>T</td>\n",
       "      <td>3</td>\n",
       "      <td>3</td>\n",
       "      <td>other</td>\n",
       "      <td>other</td>\n",
       "      <td>...</td>\n",
       "      <td>4</td>\n",
       "      <td>3</td>\n",
       "      <td>2</td>\n",
       "      <td>1</td>\n",
       "      <td>2</td>\n",
       "      <td>5</td>\n",
       "      <td>4</td>\n",
       "      <td>6</td>\n",
       "      <td>10</td>\n",
       "      <td>10</td>\n",
       "    </tr>\n",
       "    <tr>\n",
       "      <th>...</th>\n",
       "      <td>...</td>\n",
       "      <td>...</td>\n",
       "      <td>...</td>\n",
       "      <td>...</td>\n",
       "      <td>...</td>\n",
       "      <td>...</td>\n",
       "      <td>...</td>\n",
       "      <td>...</td>\n",
       "      <td>...</td>\n",
       "      <td>...</td>\n",
       "      <td>...</td>\n",
       "      <td>...</td>\n",
       "      <td>...</td>\n",
       "      <td>...</td>\n",
       "      <td>...</td>\n",
       "      <td>...</td>\n",
       "      <td>...</td>\n",
       "      <td>...</td>\n",
       "      <td>...</td>\n",
       "      <td>...</td>\n",
       "      <td>...</td>\n",
       "    </tr>\n",
       "    <tr>\n",
       "      <th>390</th>\n",
       "      <td>MS</td>\n",
       "      <td>M</td>\n",
       "      <td>20</td>\n",
       "      <td>U</td>\n",
       "      <td>LE3</td>\n",
       "      <td>A</td>\n",
       "      <td>2</td>\n",
       "      <td>2</td>\n",
       "      <td>services</td>\n",
       "      <td>services</td>\n",
       "      <td>...</td>\n",
       "      <td>5</td>\n",
       "      <td>5</td>\n",
       "      <td>4</td>\n",
       "      <td>4</td>\n",
       "      <td>5</td>\n",
       "      <td>4</td>\n",
       "      <td>11</td>\n",
       "      <td>9</td>\n",
       "      <td>9</td>\n",
       "      <td>9</td>\n",
       "    </tr>\n",
       "    <tr>\n",
       "      <th>391</th>\n",
       "      <td>MS</td>\n",
       "      <td>M</td>\n",
       "      <td>17</td>\n",
       "      <td>U</td>\n",
       "      <td>LE3</td>\n",
       "      <td>T</td>\n",
       "      <td>3</td>\n",
       "      <td>1</td>\n",
       "      <td>services</td>\n",
       "      <td>services</td>\n",
       "      <td>...</td>\n",
       "      <td>2</td>\n",
       "      <td>4</td>\n",
       "      <td>5</td>\n",
       "      <td>3</td>\n",
       "      <td>4</td>\n",
       "      <td>2</td>\n",
       "      <td>3</td>\n",
       "      <td>14</td>\n",
       "      <td>16</td>\n",
       "      <td>16</td>\n",
       "    </tr>\n",
       "    <tr>\n",
       "      <th>392</th>\n",
       "      <td>MS</td>\n",
       "      <td>M</td>\n",
       "      <td>21</td>\n",
       "      <td>R</td>\n",
       "      <td>GT3</td>\n",
       "      <td>T</td>\n",
       "      <td>1</td>\n",
       "      <td>1</td>\n",
       "      <td>other</td>\n",
       "      <td>other</td>\n",
       "      <td>...</td>\n",
       "      <td>5</td>\n",
       "      <td>5</td>\n",
       "      <td>3</td>\n",
       "      <td>3</td>\n",
       "      <td>3</td>\n",
       "      <td>3</td>\n",
       "      <td>3</td>\n",
       "      <td>10</td>\n",
       "      <td>8</td>\n",
       "      <td>7</td>\n",
       "    </tr>\n",
       "    <tr>\n",
       "      <th>393</th>\n",
       "      <td>MS</td>\n",
       "      <td>M</td>\n",
       "      <td>18</td>\n",
       "      <td>R</td>\n",
       "      <td>LE3</td>\n",
       "      <td>T</td>\n",
       "      <td>3</td>\n",
       "      <td>2</td>\n",
       "      <td>services</td>\n",
       "      <td>other</td>\n",
       "      <td>...</td>\n",
       "      <td>4</td>\n",
       "      <td>4</td>\n",
       "      <td>1</td>\n",
       "      <td>3</td>\n",
       "      <td>4</td>\n",
       "      <td>5</td>\n",
       "      <td>0</td>\n",
       "      <td>11</td>\n",
       "      <td>12</td>\n",
       "      <td>10</td>\n",
       "    </tr>\n",
       "    <tr>\n",
       "      <th>394</th>\n",
       "      <td>MS</td>\n",
       "      <td>M</td>\n",
       "      <td>19</td>\n",
       "      <td>U</td>\n",
       "      <td>LE3</td>\n",
       "      <td>T</td>\n",
       "      <td>1</td>\n",
       "      <td>1</td>\n",
       "      <td>other</td>\n",
       "      <td>at_home</td>\n",
       "      <td>...</td>\n",
       "      <td>3</td>\n",
       "      <td>2</td>\n",
       "      <td>3</td>\n",
       "      <td>3</td>\n",
       "      <td>3</td>\n",
       "      <td>5</td>\n",
       "      <td>5</td>\n",
       "      <td>8</td>\n",
       "      <td>9</td>\n",
       "      <td>9</td>\n",
       "    </tr>\n",
       "  </tbody>\n",
       "</table>\n",
       "<p>395 rows × 33 columns</p>\n",
       "</div>"
      ],
      "text/plain": [
       "    school sex  age address famsize Pstatus  Medu  Fedu      Mjob      Fjob  \\\n",
       "0       GP   F   18       U     GT3       A     4     4   at_home   teacher   \n",
       "1       GP   F   17       U     GT3       T     1     1   at_home     other   \n",
       "2       GP   F   15       U     LE3       T     1     1   at_home     other   \n",
       "3       GP   F   15       U     GT3       T     4     2    health  services   \n",
       "4       GP   F   16       U     GT3       T     3     3     other     other   \n",
       "..     ...  ..  ...     ...     ...     ...   ...   ...       ...       ...   \n",
       "390     MS   M   20       U     LE3       A     2     2  services  services   \n",
       "391     MS   M   17       U     LE3       T     3     1  services  services   \n",
       "392     MS   M   21       R     GT3       T     1     1     other     other   \n",
       "393     MS   M   18       R     LE3       T     3     2  services     other   \n",
       "394     MS   M   19       U     LE3       T     1     1     other   at_home   \n",
       "\n",
       "     ... famrel freetime  goout  Dalc  Walc health absences  G1  G2  G3  \n",
       "0    ...      4        3      4     1     1      3        6   5   6   6  \n",
       "1    ...      5        3      3     1     1      3        4   5   5   6  \n",
       "2    ...      4        3      2     2     3      3       10   7   8  10  \n",
       "3    ...      3        2      2     1     1      5        2  15  14  15  \n",
       "4    ...      4        3      2     1     2      5        4   6  10  10  \n",
       "..   ...    ...      ...    ...   ...   ...    ...      ...  ..  ..  ..  \n",
       "390  ...      5        5      4     4     5      4       11   9   9   9  \n",
       "391  ...      2        4      5     3     4      2        3  14  16  16  \n",
       "392  ...      5        5      3     3     3      3        3  10   8   7  \n",
       "393  ...      4        4      1     3     4      5        0  11  12  10  \n",
       "394  ...      3        2      3     3     3      5        5   8   9   9  \n",
       "\n",
       "[395 rows x 33 columns]"
      ]
     },
     "execution_count": 66,
     "metadata": {},
     "output_type": "execute_result"
    }
   ],
   "source": [
    "df"
   ]
  },
  {
   "cell_type": "code",
   "execution_count": 115,
   "id": "0fc000a1",
   "metadata": {},
   "outputs": [
    {
     "data": {
      "text/plain": [
       "(395, 33)"
      ]
     },
     "execution_count": 115,
     "metadata": {},
     "output_type": "execute_result"
    }
   ],
   "source": [
    "df.shape"
   ]
  },
  {
   "cell_type": "code",
   "execution_count": 114,
   "id": "b6ab73a2",
   "metadata": {},
   "outputs": [
    {
     "data": {
      "text/plain": [
       "0.28"
      ]
     },
     "execution_count": 114,
     "metadata": {},
     "output_type": "execute_result"
    }
   ],
   "source": [
    "# Q2\n",
    "# Find the proportion of female students from the MS schoool among those whos mothers has primary school\n",
    "df[(df['sex'] == 'F') & (df['school'] == 'MS') & (df['Medu'] == 1)].shape[0] / df[(df['school'] == 'MS') & (df['sex'] == 'F')].shape[0]"
   ]
  },
  {
   "cell_type": "code",
   "execution_count": 92,
   "id": "720f00a1",
   "metadata": {},
   "outputs": [
    {
     "data": {
      "text/plain": [
       "0.0379746835443038"
      ]
     },
     "execution_count": 92,
     "metadata": {},
     "output_type": "execute_result"
    }
   ],
   "source": [
    "# Q3\n",
    "#What proportion of seudnet from MS College whos father's education is primary?\n",
    "#df[(df[\"fedu\"]==1)&(df[\"school\"]==\"MS\")]/df.samplehape[0]\n",
    "df[(df[\"Fedu\"]==1)&(df[\"school\"]==\"MS\")].shape[0]/df.shape[0]"
   ]
  },
  {
   "cell_type": "code",
   "execution_count": 89,
   "id": "6616c845",
   "metadata": {},
   "outputs": [
    {
     "data": {
      "text/plain": [
       "247    M\n",
       "Name: sex, dtype: object"
      ]
     },
     "execution_count": 89,
     "metadata": {},
     "output_type": "execute_result"
    }
   ],
   "source": [
    "# Q4 \n",
    "# What is the gender of the student with the highest value of age?\n",
    "df[df['age'] == df['age'].max()]['sex']"
   ]
  },
  {
   "cell_type": "code",
   "execution_count": 85,
   "id": "85fc21c6",
   "metadata": {},
   "outputs": [
    {
     "data": {
      "image/png": "[encoded data removed]",
      "text/plain": [
       "<Figure size 432x288 with 1 Axes>"
      ]
     },
     "metadata": {},
     "output_type": "display_data"
    },
    {
     "data": {
      "text/plain": [
       "array([[1.        , 0.01130724],\n",
       "       [0.01130724, 1.        ]])"
      ]
     },
     "execution_count": 85,
     "metadata": {},
     "output_type": "execute_result"
    }
   ],
   "source": [
    "# Q5\n",
    "plt.scatter(df['freetime'],df['G3'])\n",
    "plt.show()\n",
    "np.corrcoef(df['freetime'],df['G3'])"
   ]
  },
  {
   "cell_type": "code",
   "execution_count": null,
   "id": "283518bc",
   "metadata": {},
   "outputs": [],
   "source": []
  },
  {
   "cell_type": "code",
   "execution_count": 79,
   "id": "c3e798f3",
   "metadata": {},
   "outputs": [
    {
     "data": {
      "text/plain": [
       "school\n",
       "GP    22\n",
       "MS    21\n",
       "Name: age, dtype: int64"
      ]
     },
     "execution_count": 79,
     "metadata": {},
     "output_type": "execute_result"
    }
   ],
   "source": [
    "# Q6\n",
    "df.groupby('school')['age'].max()"
   ]
  },
  {
   "cell_type": "code",
   "execution_count": 80,
   "id": "edefc77c",
   "metadata": {},
   "outputs": [
    {
     "data": {
      "text/plain": [
       "school\n",
       "GP    15\n",
       "MS    17\n",
       "Name: age, dtype: int64"
      ]
     },
     "execution_count": 80,
     "metadata": {},
     "output_type": "execute_result"
    }
   ],
   "source": [
    "df.groupby('school')['age'].min()"
   ]
  },
  {
   "cell_type": "markdown",
   "id": "597da029",
   "metadata": {},
   "source": [
    "# Quesiton 2"
   ]
  },
  {
   "cell_type": "code",
   "execution_count": 97,
   "id": "9e651cea",
   "metadata": {},
   "outputs": [
    {
     "data": {
      "text/plain": [
       "0.5434782608695652"
      ]
     },
     "execution_count": 97,
     "metadata": {},
     "output_type": "execute_result"
    }
   ],
   "source": [
    "# Q1\n",
    "# Test if the proportion of married applicants among those with dependents is less than 50%. (write: it is/it is not) Use alpha = 0.05.\n",
    "dependent_married = df[df['school'] == 'MS']['sex'].value_counts()\n",
    "n_married_dependent = dependent_married.get('F', 0)\n",
    "n_not_married_dependent = dependent_married.get('M', 0)\n",
    "total_dependent = n_married_dependent + n_not_married_dependent\n",
    "\n",
    "# Proportion of married applicants among those with dependents\n",
    "p_hat_dependent_married = n_married_dependent / total_dependent\n",
    "p_hat_dependent_married"
   ]
  },
  {
   "cell_type": "code",
   "execution_count": 98,
   "id": "6e33e37a",
   "metadata": {},
   "outputs": [
    {
     "data": {
      "text/plain": [
       "(0.5897678246195881, 0.5553463166714225)"
      ]
     },
     "execution_count": 98,
     "metadata": {},
     "output_type": "execute_result"
    }
   ],
   "source": [
    "p0=0.5\n",
    "n=total_dependent\n",
    "successes=n_married_dependent\n",
    "phat=successes/n\n",
    "se=np.sqrt(p0*(1-p0)/n)\n",
    "test_stat=(phat-p0)/se\n",
    "pVal=(1-ss.norm.cdf(abs(test_stat)))*2\n",
    "test_stat,pVal"
   ]
  },
  {
   "cell_type": "code",
   "execution_count": 107,
   "id": "b28ae8f0",
   "metadata": {},
   "outputs": [
    {
     "name": "stdout",
     "output_type": "stream",
     "text": [
      "t       = 2.7696\n",
      "p-value = 0.006\n"
     ]
    }
   ],
   "source": [
    "# Q2\n",
    "m22 = df[df['sex'] ==\"F\"]['age']\n",
    "res = smw.DescrStatsW(m22)\n",
    "tStat, pVal, dfreedom = res.ttest_mean(value=16.5, alternative='two-sided')\n",
    "print('t       = {0:.4f}'.format(tStat))\n",
    "print('p-value = {0:.3f}'.format(pVal))"
   ]
  },
  {
   "cell_type": "code",
   "execution_count": 108,
   "id": "386895d1",
   "metadata": {},
   "outputs": [
    {
     "name": "stdout",
     "output_type": "stream",
     "text": [
      "t       = -0.956\n",
      "p-value = 0.343\n"
     ]
    }
   ],
   "source": [
    "# 3\n",
    "movies = df\n",
    "movies = df\n",
    "m1=df[(movies['school'] == \"MS\")]['G3']\n",
    "m2=movies[(movies['school'] == \"GP\")]['G3']\n",
    "\n",
    "boys  = smw.DescrStatsW(m1)\n",
    "girls = smw.DescrStatsW(m2)\n",
    "res = smw.CompareMeans(boys,girls)\n",
    "tStat, pVal, dfreedom = res.ttest_ind(alternative='two-sided', value=0, usevar='unequal')\n",
    "print('t       = {0:.3f}'.format(tStat))\n",
    "print('p-value = {0:.3f}'.format(pVal))\n",
    "\n"
   ]
  },
  {
   "cell_type": "code",
   "execution_count": 111,
   "id": "1f5cfff6",
   "metadata": {},
   "outputs": [
    {
     "name": "stdout",
     "output_type": "stream",
     "text": [
      "             df       sum_sq     mean_sq         F    PR(>F)\n",
      "C(Medu)     4.0   486.065942  121.516486  6.088436  0.000092\n",
      "Residual  390.0  7783.842918   19.958572       NaN       NaN\n"
     ]
    }
   ],
   "source": [
    "# 4\n",
    "import statsmodels.api as sm\n",
    "from statsmodels.formula.api import ols\n",
    "\n",
    "# Fit the ANOVA model\n",
    "model = ols('G3 ~ C(Medu)', data=df).fit()\n",
    "\n",
    "# Perform ANOVA\n",
    "anova_table = sm.stats.anova_lm(model)\n",
    "print(anova_table)"
   ]
  },
  {
   "cell_type": "code",
   "execution_count": 72,
   "id": "b71f5f09",
   "metadata": {},
   "outputs": [
    {
     "data": {
      "text/plain": [
       "(183, 33)"
      ]
     },
     "execution_count": 72,
     "metadata": {},
     "output_type": "execute_result"
    }
   ],
   "source": [
    "# 2.5\n",
    "df1=df[ (df['sex'] == \"F\") & (df['school']==\"GP\")]\n",
    "df1.shape"
   ]
  },
  {
   "cell_type": "code",
   "execution_count": null,
   "id": "f2652ab8",
   "metadata": {},
   "outputs": [],
   "source": []
  },
  {
   "cell_type": "code",
   "execution_count": 73,
   "id": "e11152a0",
   "metadata": {},
   "outputs": [
    {
     "data": {
      "text/plain": [
       "(16.408085394404523, 16.75038455095067)"
      ]
     },
     "execution_count": 73,
     "metadata": {},
     "output_type": "execute_result"
    }
   ],
   "source": [
    "smw.DescrStatsW(df1['age']).tconfint_mean(alpha=0.05, alternative='two-sided')"
   ]
  },
  {
   "cell_type": "code",
   "execution_count": 67,
   "id": "224be21d",
   "metadata": {},
   "outputs": [
    {
     "data": {
      "text/plain": [
       "(187, 33)"
      ]
     },
     "execution_count": 67,
     "metadata": {},
     "output_type": "execute_result"
    }
   ],
   "source": [
    "# 2.6\n",
    "dfF=df.groupby(by='sex').get_group('M')\n",
    "dfF.shape"
   ]
  },
  {
   "cell_type": "code",
   "execution_count": 70,
   "id": "c65203d6",
   "metadata": {},
   "outputs": [
    {
     "data": {
      "text/plain": [
       "(93, 33)"
      ]
     },
     "execution_count": 70,
     "metadata": {},
     "output_type": "execute_result"
    }
   ],
   "source": [
    "df[(df['age']>16)&(df['sex']=='M')].shape"
   ]
  },
  {
   "cell_type": "code",
   "execution_count": 71,
   "id": "f43a30f6",
   "metadata": {},
   "outputs": [
    {
     "data": {
      "text/plain": [
       "(0.42566384717720457, 0.5689885592399078)"
      ]
     },
     "execution_count": 71,
     "metadata": {},
     "output_type": "execute_result"
    }
   ],
   "source": [
    "smp.proportion_confint(count=93, nobs=187, alpha=0.05, method='normal')"
   ]
  },
  {
   "cell_type": "code",
   "execution_count": 74,
   "id": "9403a632",
   "metadata": {},
   "outputs": [
    {
     "name": "stdout",
     "output_type": "stream",
     "text": [
      "2.0\n",
      "1.2760427246056245\n"
     ]
    }
   ],
   "source": [
    "# 2.7  Compute the IQR and the standard deviation of the variable bonus\n",
    "print(ss.iqr(df['age']))\n",
    "print(df['age'].std())"
   ]
  },
  {
   "cell_type": "code",
   "execution_count": 75,
   "id": "0b00c396",
   "metadata": {},
   "outputs": [
    {
     "data": {
      "text/plain": [
       "school\n",
       "GP    0.883544\n",
       "MS    0.116456\n",
       "dtype: float64"
      ]
     },
     "execution_count": 75,
     "metadata": {},
     "output_type": "execute_result"
    }
   ],
   "source": [
    "# 2.8\n",
    "df.groupby('school').size()/df.shape[0]\n"
   ]
  },
  {
   "cell_type": "code",
   "execution_count": 76,
   "id": "959bd01b",
   "metadata": {},
   "outputs": [
    {
     "name": "stdout",
     "output_type": "stream",
     "text": [
      "P(X>=3)= 0.018\n"
     ]
    }
   ],
   "source": [
    "p=0.052\n",
    "x=3\n",
    "n=20\n",
    "prob=1-ss.binom.cdf(x,n,p)\n",
    "print(\"P(X>=3)= {0:.3f}\".format(prob))"
   ]
  },
  {
   "cell_type": "markdown",
   "id": "90226e89",
   "metadata": {},
   "source": [
    "# Q3.1\n",
    "A call center receives an average of 10 calls per hour. Calculate the probability that the call center will receive exactly 15 calls in the next hour.\n"
   ]
  },
  {
   "cell_type": "code",
   "execution_count": 9,
   "id": "aa6bc5d3",
   "metadata": {},
   "outputs": [
    {
     "data": {
      "text/plain": [
       "0.034718069630684245"
      ]
     },
     "execution_count": 9,
     "metadata": {},
     "output_type": "execute_result"
    }
   ],
   "source": [
    "ss.poisson.pmf(15,10) # lambda =2   P(X=1)"
   ]
  },
  {
   "cell_type": "markdown",
   "id": "69a146c4",
   "metadata": {},
   "source": [
    "# Q3.2 (Expon)\n",
    "A website receives requests from users at a rate of 50 per hour. What is the probability that the time between consecutive requests is less than two minutes?"
   ]
  },
  {
   "cell_type": "code",
   "execution_count": 43,
   "id": "cae29ddb",
   "metadata": {},
   "outputs": [
    {
     "name": "stdout",
     "output_type": "stream",
     "text": [
      "Probability that the time between consecutive requests is less than two minutes: 0.8111243971624382\n"
     ]
    }
   ],
   "source": [
    "from scipy.stats import expon\n",
    "\n",
    "# Given arrival rate\n",
    "arrival_rate_per_hour = 50\n",
    "\n",
    "# Convert arrival rate to rate per minute\n",
    "arrival_rate_per_minute = arrival_rate_per_hour / 60\n",
    "\n",
    "# Define the scale parameter (mean) of the exponential distribution\n",
    "scale_parameter = 1 / arrival_rate_per_minute\n",
    "\n",
    "# Define the upper bound of the time interval (in minutes)\n",
    "upper_bound_minutes = 2\n",
    "\n",
    "# Calculate the probability using the cumulative distribution function (CDF)\n",
    "probability = expon.cdf(upper_bound_minutes, scale=scale_parameter)\n",
    "\n",
    "print(\"Probability that the time between consecutive requests is less than two minutes:\", probability)\n"
   ]
  },
  {
   "cell_type": "markdown",
   "id": "b8356229",
   "metadata": {},
   "source": [
    "# Q3.3\n",
    "Consider average time between customer arrivals is three minutes. We want to find the probability that a new customer arrives in less than one minute after the previous customer."
   ]
  },
  {
   "cell_type": "code",
   "execution_count": 47,
   "id": "550e271f",
   "metadata": {},
   "outputs": [
    {
     "name": "stdout",
     "output_type": "stream",
     "text": [
      "Probability of a new customer arriving in less than one minute: 0.28346868942621073\n"
     ]
    }
   ],
   "source": [
    "import scipy.stats as stats\n",
    "\n",
    "# Average time between arrivals in minutes\n",
    "average_time_between_arrivals = 3\n",
    "\n",
    "# Calculate the rate parameter (lambda) for the exponential distribution\n",
    "rate_parameter = 1 / average_time_between_arrivals\n",
    "\n",
    "# Calculate the probability that a new customer arrives in less than one minute\n",
    "probability_less_than_one_minute = stats.expon.cdf(1, scale=1/rate_parameter)\n",
    "\n",
    "print(\"Probability of a new customer arriving in less than one minute:\", probability_less_than_one_minute)\n"
   ]
  },
  {
   "cell_type": "markdown",
   "id": "b0e957b7",
   "metadata": {},
   "source": [
    "# Q3.4\n",
    "Suppose a shop experiences customer arrivals, and the average time between customers entering the shop is two minutes. We want to find the probability that a new customer arrives in less than one minute after the previous customer."
   ]
  },
  {
   "cell_type": "code",
   "execution_count": 48,
   "id": "5718026e",
   "metadata": {},
   "outputs": [
    {
     "name": "stdout",
     "output_type": "stream",
     "text": [
      "Probability of a new customer arriving in less than one minute: 0.3934693402873666\n"
     ]
    }
   ],
   "source": [
    "import scipy.stats as stats\n",
    "\n",
    "# Average time between arrivals in minutes\n",
    "average_time_between_arrivals = 2\n",
    "\n",
    "# Calculate the rate parameter (lambda) for the exponential distribution\n",
    "rate_parameter = 1 / average_time_between_arrivals\n",
    "\n",
    "# Calculate the probability that a new customer arrives in less than one minute\n",
    "probability_less_than_one_minute = stats.expon.cdf(1, scale=1/rate_parameter)\n",
    "\n",
    "print(\"Probability of a new customer arriving in less than one minute:\", probability_less_than_one_minute)\n"
   ]
  }
 ],
 "metadata": {
  "kernelspec": {
   "display_name": "Python 3",
   "language": "python",
   "name": "python3"
  },
  "language_info": {
   "codemirror_mode": {
    "name": "ipython",
    "version": 3
   },
   "file_extension": ".py",
   "mimetype": "text/x-python",
   "name": "python",
   "nbconvert_exporter": "python",
   "pygments_lexer": "ipython3",
   "version": "3.8.8"
  }
 },
 "nbformat": 4,
 "nbformat_minor": 5
}
